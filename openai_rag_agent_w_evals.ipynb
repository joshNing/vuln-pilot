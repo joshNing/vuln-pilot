{
 "cells": [
  {
   "cell_type": "markdown",
   "metadata": {},
   "source": [
    "# OpenAI Agent with LlamaIndex\n",
    "\n",
    "## Install Dependencies"
   ]
  },
  {
   "cell_type": "code",
   "execution_count": null,
   "metadata": {},
   "outputs": [
    {
     "name": "stderr",
     "output_type": "stream",
     "text": [
      "I0000 00:00:1750537025.539120 4407791 fork_posix.cc:71] Other threads are currently calling into gRPC, skipping fork() handlers\n"
     ]
    },
    {
     "name": "stdout",
     "output_type": "stream",
     "text": [
      "Requirement already satisfied: uv in ./.venv/lib/python3.12/site-packages (0.7.13)\n"
     ]
    },
    {
     "name": "stderr",
     "output_type": "stream",
     "text": [
      "I0000 00:00:1750537026.472321 4407791 fork_posix.cc:71] Other threads are currently calling into gRPC, skipping fork() handlers\n"
     ]
    }
   ],
   "source": [
    "# !pip install uv\n",
    "# !uv pip install -qU llama-index-llms-openai llama-index-readers-file llama-index-embeddings-openai \"openinference-instrumentation-llama-index>=2\" arize-phoenix python-dotenv"
   ]
  },
  {
   "cell_type": "markdown",
   "metadata": {},
   "source": [
    "## Setup API Keys\n"
   ]
  },
  {
   "cell_type": "code",
   "execution_count": null,
   "metadata": {},
   "outputs": [],
   "source": []
  },
  {
   "cell_type": "code",
   "execution_count": 1,
   "metadata": {},
   "outputs": [],
   "source": [
    "from os import environ\n",
    "from dotenv import load_dotenv\n",
    "\n",
    "load_dotenv()\n",
    "\n",
    "OPENAI_API_KEY = environ[\"OPENAI_API_KEY\"]"
   ]
  },
  {
   "cell_type": "markdown",
   "metadata": {},
   "source": [
    "## Import libraries and setup LlamaIndex"
   ]
  },
  {
   "cell_type": "code",
   "execution_count": 2,
   "metadata": {},
   "outputs": [],
   "source": [
    "from llama_index.core import (\n",
    "    SimpleDirectoryReader,\n",
    "    VectorStoreIndex,\n",
    "    StorageContext,\n",
    "    load_index_from_storage,\n",
    ")\n",
    "from llama_index.core.tools import QueryEngineTool, ToolMetadata\n",
    "from llama_index.core.agent import ReActAgent\n",
    "from llama_index.llms.openai import OpenAI\n",
    "\n",
    "\n",
    "# Create an llm object to use for the QueryEngine and the ReActAgent\n",
    "llm = OpenAI(model=\"gpt-4\")"
   ]
  },
  {
   "cell_type": "code",
   "execution_count": 3,
   "metadata": {},
   "outputs": [],
   "source": [
    "from llama_index.core import (\n",
    "    SimpleDirectoryReader,\n",
    "    VectorStoreIndex,\n",
    "    StorageContext,\n",
    "    load_index_from_storage,\n",
    ")\n",
    "from llama_index.core.tools import QueryEngineTool, ToolMetadata\n",
    "from llama_index.core.agent import ReActAgent\n",
    "from llama_index.llms.openai import OpenAI\n",
    "\n",
    "\n",
    "# Create an llm object to use for the QueryEngine and the ReActAgent\n",
    "llm = OpenAI(model=\"gpt-4\")"
   ]
  },
  {
   "cell_type": "markdown",
   "metadata": {},
   "source": [
    "# Set up Phoenix"
   ]
  },
  {
   "cell_type": "code",
   "execution_count": 4,
   "metadata": {},
   "outputs": [
    {
     "name": "stderr",
     "output_type": "stream",
     "text": [
      "/Users/j.ning/Agent-Hack/.venv/lib/python3.12/site-packages/tqdm/auto.py:21: TqdmWarning: IProgress not found. Please update jupyter and ipywidgets. See https://ipywidgets.readthedocs.io/en/stable/user_install.html\n",
      "  from .autonotebook import tqdm as notebook_tqdm\n",
      "/opt/homebrew/Cellar/python@3.12/3.12.11/Frameworks/Python.framework/Versions/3.12/lib/python3.12/contextlib.py:144: SAWarning: Skipped unsupported reflection of expression-based index ix_cumulative_llm_token_count_total\n",
      "  next(self.gen)\n",
      "/opt/homebrew/Cellar/python@3.12/3.12.11/Frameworks/Python.framework/Versions/3.12/lib/python3.12/contextlib.py:144: SAWarning: Skipped unsupported reflection of expression-based index ix_latency\n",
      "  next(self.gen)\n"
     ]
    },
    {
     "name": "stdout",
     "output_type": "stream",
     "text": [
      "🌍 To view the Phoenix app in your browser, visit http://localhost:6006/\n",
      "📖 For more information on how to use Phoenix, check out https://arize.com/docs/phoenix\n"
     ]
    }
   ],
   "source": [
    "import phoenix as px\n",
    "session = px.launch_app()"
   ]
  },
  {
   "cell_type": "code",
   "execution_count": 5,
   "metadata": {},
   "outputs": [
    {
     "name": "stdout",
     "output_type": "stream",
     "text": [
      "🔭 OpenTelemetry Tracing Details 🔭\n",
      "|  Phoenix Project: default\n",
      "|  Span Processor: SimpleSpanProcessor\n",
      "|  Collector Endpoint: localhost:4317\n",
      "|  Transport: gRPC\n",
      "|  Transport Headers: {'user-agent': '****'}\n",
      "|  \n",
      "|  Using a default SpanProcessor. `add_span_processor` will overwrite this default.\n",
      "|  \n",
      "|  ⚠️ WARNING: It is strongly advised to use a BatchSpanProcessor in production environments.\n",
      "|  \n",
      "|  `register` has set this TracerProvider as the global OpenTelemetry default.\n",
      "|  To disable this behavior, call `register` with `set_global_tracer_provider=False`.\n",
      "\n"
     ]
    }
   ],
   "source": [
    "from openinference.instrumentation.llama_index import LlamaIndexInstrumentor\n",
    "from phoenix.otel import register\n",
    "\n",
    "tracer_provider = register()\n",
    "LlamaIndexInstrumentor().instrument(tracer_provider=tracer_provider)"
   ]
  },
  {
   "cell_type": "markdown",
   "metadata": {},
   "source": [
    "## Load Documents"
   ]
  },
  {
   "cell_type": "code",
   "execution_count": null,
   "metadata": {},
   "outputs": [
    {
     "name": "stdout",
     "output_type": "stream",
     "text": [
      "Loading llama_index.core.storage.kvstore.simple_kvstore from ./storage/lyft/docstore.json.\n"
     ]
    }
   ],
   "source": [
    "try:\n",
    "    storage_context = StorageContext.from_defaults(\n",
    "        persist_dir=\"./storage/custom\"\n",
    "    )\n",
    "    lyft_index = load_index_from_storage(storage_context)\n",
    "\n",
    "    storage_context = StorageContext.from_defaults(\n",
    "        persist_dir=\"./storage/uber\"\n",
    "    )\n",
    "    uber_index = load_index_from_storage(storage_context)\n",
    "\n",
    "    index_loaded = True\n",
    "except:\n",
    "    index_loaded = False"
   ]
  },
  {
   "cell_type": "markdown",
   "metadata": {},
   "source": [
    "This is the point we create our vector indexes, by calculating the embedding vectors for each of the chunks. You only need to run this once."
   ]
  },
  {
   "cell_type": "code",
   "execution_count": null,
   "metadata": {},
   "outputs": [
    {
     "name": "stderr",
     "output_type": "stream",
     "text": [
      "Parsing nodes:   0%|          | 0/1 [00:00<?, ?it/s]Transient error StatusCode.UNAVAILABLE encountered while exporting traces to localhost:4317, retrying in 1s.\n",
      "Parsing nodes: 100%|██████████| 1/1 [00:01<00:00,  1.02s/it]\n",
      "Generating embeddings: 100%|██████████| 1/1 [00:00<00:00,  2.03it/s]\n"
     ]
    },
    {
     "name": "stdout",
     "output_type": "stream",
     "text": [
      "[Document(id_='f4be0c74-1a72-4735-84bc-358d3a3a22ed', embedding=None, metadata={'file_path': 'constant/custom_rules_1.0.md', 'file_name': 'custom_rules_1.0.md', 'file_type': 'text/markdown', 'file_size': 4062, 'creation_date': '2025-06-21', 'last_modified_date': '2025-06-21'}, excluded_embed_metadata_keys=['file_name', 'file_type', 'file_size', 'creation_date', 'last_modified_date', 'last_accessed_date'], excluded_llm_metadata_keys=['file_name', 'file_type', 'file_size', 'creation_date', 'last_modified_date', 'last_accessed_date'], relationships={}, metadata_template='{key}: {value}', metadata_separator='\\n', text_resource=MediaResource(embeddings=None, data=None, text='\\n# 🔒 Security Vulnerability Handling Rules\\n\\n## 1. 📊 General Post-Processing by Severity\\n\\n| Severity Level | Action |\\n|----------------|--------|\\n| **High** | File a **bug ticket** (severity: **High**).<br>Send an **email notification** to the responsible team’s **engineering manager** and **security contact**.<br>Mark the issue as **\"Security Blocker\"** if it\\'s exploitable in production. |\\n| **Medium** | File a **bug ticket** with **priority: Medium**. Assign to the appropriate team. Notify the security team via internal tracking (no email escalation). |\\n| **Low** | File a **bug ticket** with **priority: Low**. Add the issue to the **backlog** of the assigned team. No email required. |\\n| **Informational** | Document the issue in internal wiki or ticketing system as **“informational only”**. No immediate remediation needed unless linked to abuse scenarios. |\\n\\n---\\n\\n## 2. 🛠️ Ticket Assignment Rules by Vulnerability Type\\n\\n| Vulnerability | Action | Assignee Team | Team Email |\\n|---------------|--------|---------------|------------|\\n| **SQL Injection** | File bug immediately (High severity). Include proof-of-concept and affected URLs. | Backend / DB Security Team | dbsec@company.com |\\n| **XML External Entity Injection (XXE)** | File bug (High severity). Verify parser libraries used. | API Platform / Infra Team | infra-sec@company.com |\\n| **Cross-site Scripting (Reflected)** | File bug (Medium or High depending on impact). Provide sanitization recommendations. | Frontend Security Team | frontend-sec@company.com |\\n| **Client-side Template Injection** | File bug (High severity). Include details on template engine. | Frontend App Team | frontend-app@company.com |\\n| **External Service Interaction (HTTP / DNS)** | File bug (Medium). Investigate unintended data leaks. | Network / Logging Team | net-ops@company.com |\\n| **Vulnerable JavaScript Dependency** | File bug (Medium). Add action to upgrade or patch the vulnerable package. | AppSec / Dependency Management | appsec@company.com |\\n| **Open Redirection (DOM-based)** | File bug (Medium). Link to browser-specific behaviors. | Frontend Security Team | frontend-sec@company.com |\\n| **Password Field with Autocomplete Enabled** | File bug (Low). Update frontend form attributes. | UX / Frontend Team | frontend@company.com |\\n| **Strict Transport Security Not Enforced** | File bug (Low). Apply `Strict-Transport-Security` headers. | Infra / DevOps Team | devops@company.com |\\n| **Client-side Prototype Pollution** | File bug (High). Identify affected libraries and versions. | Frontend Security Team | frontend-sec@company.com |\\n| **Input Returned in Response (Reflected)** | File bug (Low or Medium depending on context). | Frontend Dev Team | frontend@company.com |\\n| **Request URL Override** | File bug (Medium). Review for unsafe `Host` header usage. | API Gateway Team | api-platform@company.com |\\n| **TLS Cookie Without Secure Flag Set** | File bug (Low). Set `Secure` flag on all session cookies. | Web Platform Team | websec@company.com |\\n| **Cookie Without HttpOnly Flag Set** | File bug (Low). Add `HttpOnly` attribute to session cookies. | Web Platform Team | websec@company.com |\\n| **Frameable Response (Clickjacking)** | File bug (Medium). Recommend `X-Frame-Options` or `Content-Security-Policy`. | Frontend or Web Infra Team | websec@company.com |\\n| **Cacheable HTTPS Response** | File bug (Low). Adjust `Cache-Control` headers. | Web Infrastructure Team | infra-sec@company.com |\\n\\n---\\n\\n## 3. 📬 Email Template for High-Severity Alerts\\n\\n```\\nSubject: 🔴 [High Severity] Security Vulnerability - [Vulnerability Type] Detected\\n\\nTo: [Team Email], [Engineering Manager Name]  \\nCc: security@company.com\\n\\nA high-severity security issue has been identified during a recent security scan.\\n\\nVulnerability Type: SQL Injection  \\nAffected URL(s): https://ginandjuice.shop/catalog/filter  \\nSeverity: High  \\nRecommended Action: Immediate triage and patching.\\n\\nPlease acknowledge receipt and provide a remediation ETA within 24 hours.\\n\\n— Security Engineering Team\\n```\\n', path=None, url=None, mimetype=None), image_resource=None, audio_resource=None, video_resource=None, text_template='{metadata_str}\\n\\n{content}')]\n"
     ]
    }
   ],
   "source": [
    "if not index_loaded:\n",
    "    # load data\n",
    "    custom_rules_docs = SimpleDirectoryReader(\n",
    "        input_files=[\"./constant/custom_rules_1.0.md\"]\n",
    "    ).load_data()\n",
    "    scanning_result_docs = SimpleDirectoryReader(\n",
    "        input_files=[\"./constant/qualys_sample_report.json\"]\n",
    "    ).load_data()\n",
    "\n",
    "    # build index\n",
    "    custom_index = VectorStoreIndex.from_documents(custom_rules_docs, show_progress=True)\n",
    "    scan_index = VectorStoreIndex.from_documents(scanning_result_docs, swow_progress=True)\n",
    "\n",
    "    print(custom_rules_docs)\n",
    "    # persist index\n",
    "    custom_index.storage_context.persist(persist_dir=\"./constant/custom_rules\")\n",
    "    scan_index.storage_context.persist(persist_dir=\"./constant/scan_results\")"
   ]
  },
  {
   "cell_type": "markdown",
   "metadata": {},
   "source": [
    "Now create the query engines."
   ]
  },
  {
   "cell_type": "code",
   "execution_count": 14,
   "metadata": {},
   "outputs": [],
   "source": [
    "custom_engine = custom_index.as_query_engine(similarity_top_k=3, llm=llm)\n",
    "scan_engine = uber_index.as_query_engine(similarity_top_k=3, llm=llm)"
   ]
  },
  {
   "cell_type": "markdown",
   "metadata": {},
   "source": [
    "We can now define the query engines as tools that will be used by the agent.\n",
    "\n",
    "As there is a query engine per document we need to also define one tool for each of them."
   ]
  },
  {
   "cell_type": "code",
   "execution_count": 17,
   "metadata": {},
   "outputs": [],
   "source": [
    "query_engine_tools = [\n",
    "    QueryEngineTool(\n",
    "        query_engine=custom_engine,\n",
    "        metadata=ToolMetadata(\n",
    "            name=\"custom_rules\",\n",
    "            description=(\n",
    "                \"Provides information about post process of vulnerability scan report. \"\n",
    "                \"Use a detailed plain text question as input to the tool.\"\n",
    "            ),\n",
    "        ),\n",
    "    ),\n",
    "    QueryEngineTool(\n",
    "        query_engine=scan_engine,\n",
    "        metadata=ToolMetadata(\n",
    "            name=\"scanning_results\",\n",
    "            description=(\n",
    "                \"Provides information about qualys vulnerability reports. \"\n",
    "                \"Use a detailed plain text question as input to the tool.\"\n",
    "            ),\n",
    "        ),\n",
    "    ),\n",
    "]"
   ]
  },
  {
   "cell_type": "markdown",
   "metadata": {},
   "source": [
    "## Creating the Agent\n",
    "Now we have all the elements to create a LlamaIndex ReactAgent"
   ]
  },
  {
   "cell_type": "code",
   "execution_count": 18,
   "metadata": {},
   "outputs": [],
   "source": [
    "agent = ReActAgent.from_tools(\n",
    "    query_engine_tools,\n",
    "    llm=llm,\n",
    "    verbose=True,\n",
    "    max_turns=10,\n",
    ")"
   ]
  },
  {
   "cell_type": "markdown",
   "metadata": {},
   "source": [
    "Now we can interact with the agent and ask a question."
   ]
  },
  {
   "cell_type": "code",
   "execution_count": 24,
   "metadata": {},
   "outputs": [
    {
     "name": "stderr",
     "output_type": "stream",
     "text": [
      "Transient error StatusCode.UNAVAILABLE encountered while exporting traces to localhost:4317, retrying in 1s.\n"
     ]
    },
    {
     "name": "stdout",
     "output_type": "stream",
     "text": [
      "> Running step 5b6132d4-9a88-4cd2-8f82-28fce2542581. Step input: You are the security engineer, you have 3 actions based on the custom rules file. You could either ignore the vulnerability, email the respective team, and file a bug with the right information. Read the first case of scan result, what's the next step and take action in plain text\n",
      "\u001b[1;3;38;5;200mThought: The user is asking for the next step based on the first case of the scan result. To provide an accurate response, I need to use the scanning_results tool to get the first case of the scan result.\n",
      "Action: scanning_results\n",
      "Action Input: {'input': 'What is the first case of the scan result?'}\n",
      "\u001b[0m\u001b[1;3;34mObservation: The first case of the scan result is for the asset with IP \"10.0.1.15\" and hostname \"web-01.example.internal\". The operating system of this asset is \"Ubuntu 22.04\". It has a vulnerability titled \"OpenSSH 'Channel' double-free privilege escalation\" with a severity of 5 and a CVSS base score of 9.8. This vulnerability, identified as \"CVE-2024-23010\", was first detected on \"2025-06-12\" and last detected on \"2025-06-20\". The status of this vulnerability is \"New\". The recommended solution is to upgrade openssh-server to 1:9.8p1-1ubuntu0.4 or later.\n",
      "\u001b[0m> Running step 78e28540-5241-44b9-a3ad-876b6b6b3ff6. Step input: None\n",
      "\u001b[1;3;38;5;200mThought: Based on the scan result, the vulnerability is of high severity (5) and has a high CVSS base score (9.8). According to the custom rules, for high severity vulnerabilities, a bug ticket should be filed with high severity, an email notification should be sent to the responsible team’s engineering manager and security contact, and the issue should be marked as \"Security Blocker\" if it's exploitable in production.\n",
      "Action: custom_rules\n",
      "Action Input: {'input': 'What is the next step for a vulnerability with a severity of 5 and a CVSS base score of 9.8?'}\n",
      "\u001b[0m\u001b[1;3;34mObservation: The context does not provide specific actions for vulnerabilities based on a CVSS base score. However, a vulnerability with a high severity level should be handled by filing a bug ticket marked as \"High\". An email notification should be sent to the responsible team’s engineering manager and security contact. If the issue is exploitable in production, it should be marked as a \"Security Blocker\".\n",
      "\u001b[0m> Running step 8571e0fb-a00e-4f81-84e5-e8f28fcd2d53. Step input: None\n",
      "\u001b[1;3;38;5;200mThought: I can answer without using any more tools. I'll use the user's language to answer\n",
      "Answer: Based on the first case of the scan result, the next step is to address this high severity vulnerability. As a security engineer, I would take the following actions:\n",
      "\n",
      "1. File a bug ticket: The ticket should be marked as \"High\" severity. The ticket should include all the details of the vulnerability, such as the asset IP and hostname, the vulnerability title, the associated CVE, and the recommended solution.\n",
      "\n",
      "2. Send an email notification: The email should be sent to the responsible team’s engineering manager and security contact. The email should contain the same information as the bug ticket and emphasize the urgency of addressing this vulnerability due to its high severity and CVSS base score.\n",
      "\n",
      "3. Mark as a \"Security Blocker\": If the vulnerability is exploitable in production, it should be marked as a \"Security Blocker\" in the bug tracking system to highlight its criticality and ensure it is addressed as a priority.\n",
      "\n",
      "The recommended solution, \"Upgrade openssh-server to 1:9.8p1-1ubuntu0.4 or later\", should be implemented as soon as possible to mitigate the risk.\n",
      "\u001b[0mBased on the first case of the scan result, the next step is to address this high severity vulnerability. As a security engineer, I would take the following actions:\n",
      "\n",
      "1. File a bug ticket: The ticket should be marked as \"High\" severity. The ticket should include all the details of the vulnerability, such as the asset IP and hostname, the vulnerability title, the associated CVE, and the recommended solution.\n",
      "\n",
      "2. Send an email notification: The email should be sent to the responsible team’s engineering manager and security contact. The email should contain the same information as the bug ticket and emphasize the urgency of addressing this vulnerability due to its high severity and CVSS base score.\n",
      "\n",
      "3. Mark as a \"Security Blocker\": If the vulnerability is exploitable in production, it should be marked as a \"Security Blocker\" in the bug tracking system to highlight its criticality and ensure it is addressed as a priority.\n",
      "\n",
      "The recommended solution, \"Upgrade openssh-server to 1:9.8p1-1ubuntu0.4 or later\", should be implemented as soon as possible to mitigate the risk.\n"
     ]
    }
   ],
   "source": [
    "response = agent.chat(\"You are the security engineer, you have 3 actions based on the custom rules file. You could either ignore the vulnerability, email the respective team, and file a bug with the right information. Read the first case of scan result, what's the next step and take action in plain text\")\n",
    "print(str(response))"
   ]
  },
  {
   "cell_type": "code",
   "execution_count": null,
   "metadata": {},
   "outputs": [],
   "source": []
  }
 ],
 "metadata": {
  "kernelspec": {
   "display_name": ".venv",
   "language": "python",
   "name": "python3"
  },
  "language_info": {
   "codemirror_mode": {
    "name": "ipython",
    "version": 3
   },
   "file_extension": ".py",
   "mimetype": "text/x-python",
   "name": "python",
   "nbconvert_exporter": "python",
   "pygments_lexer": "ipython3",
   "version": "3.12.11"
  }
 },
 "nbformat": 4,
 "nbformat_minor": 2
}
